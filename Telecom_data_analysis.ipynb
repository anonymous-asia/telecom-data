{
  "nbformat": 4,
  "nbformat_minor": 0,
  "metadata": {
    "kernelspec": {
      "display_name": "Python 3",
      "language": "python",
      "name": "python3"
    },
    "language_info": {
      "codemirror_mode": {
        "name": "ipython",
        "version": 3
      },
      "file_extension": ".py",
      "mimetype": "text/x-python",
      "name": "python",
      "nbconvert_exporter": "python",
      "pygments_lexer": "ipython3",
      "version": "3.7.6"
    },
    "colab": {
      "name": "Telecom data analysis",
      "provenance": []
    }
  },
  "cells": [
    {
      "cell_type": "markdown",
      "metadata": {
        "id": "gmsFvD5yFlpx"
      },
      "source": [
        "You work as an analyst for the telecom operator Megaline. The company offers its clients two prepaid plans, Surf and Ultimate. The commercial department wants to know which of the plans brings in more revenue in order to adjust the advertising budget.\r\n",
        "You are going to carry out a preliminary analysis of the plans based on a relatively small client selection. You'll have the data on 500 Megaline clients: who the clients are, where they're from, which plan they use, and the number of calls they made and text messages they sent in 2018. Your job is to analyze clients' behavior and determine which prepaid plan brings in more revenue."
      ]
    },
    {
      "cell_type": "markdown",
      "metadata": {
        "id": "tJ6TCIARFaiO"
      },
      "source": [
        "Step 1: Importing all the datasets"
      ]
    },
    {
      "cell_type": "code",
      "metadata": {
        "id": "n_ScnvpWFaiP"
      },
      "source": [
        "import pandas as pd\n",
        "import numpy as np\n",
        "calls=pd.read_csv('/datasets/megaline_calls.csv')\n",
        "internet=pd.read_csv('/datasets/megaline_internet.csv')\n",
        "messages=pd.read_csv('/datasets/megaline_messages.csv')\n",
        "plans=pd.read_csv('/datasets/megaline_plans.csv')\n",
        "users=pd.read_csv('/datasets/megaline_users.csv')"
      ],
      "execution_count": null,
      "outputs": []
    },
    {
      "cell_type": "markdown",
      "metadata": {
        "id": "CBffb3CWFaiQ"
      },
      "source": [
        "Step 2: Preparing the data"
      ]
    },
    {
      "cell_type": "code",
      "metadata": {
        "scrolled": true,
        "id": "ssB9q9r9FaiQ",
        "outputId": "4a23026c-024a-4618-bd75-0869fe95c582"
      },
      "source": [
        "#calls dataset\n",
        "print(calls.info())\n",
        "print(calls.isnull().sum())\n",
        "calls['call_date']=pd.to_datetime(calls['call_date'],format='%Y-%m-%d')\n",
        "calls['duration']=calls['duration'].apply(np.ceil)\n",
        "calls_new=calls.query('duration>0')\n",
        "print(calls_new.info())\n",
        "print(calls['duration'].describe())\n",
        "print(calls_new['duration'].describe())"
      ],
      "execution_count": null,
      "outputs": [
        {
          "output_type": "stream",
          "text": [
            "<class 'pandas.core.frame.DataFrame'>\n",
            "RangeIndex: 137735 entries, 0 to 137734\n",
            "Data columns (total 4 columns):\n",
            "id           137735 non-null object\n",
            "user_id      137735 non-null int64\n",
            "call_date    137735 non-null object\n",
            "duration     137735 non-null float64\n",
            "dtypes: float64(1), int64(1), object(2)\n",
            "memory usage: 4.2+ MB\n",
            "None\n",
            "id           0\n",
            "user_id      0\n",
            "call_date    0\n",
            "duration     0\n",
            "dtype: int64\n",
            "<class 'pandas.core.frame.DataFrame'>\n",
            "Int64Index: 110901 entries, 0 to 137734\n",
            "Data columns (total 4 columns):\n",
            "id           110901 non-null object\n",
            "user_id      110901 non-null int64\n",
            "call_date    110901 non-null datetime64[ns]\n",
            "duration     110901 non-null float64\n",
            "dtypes: datetime64[ns](1), float64(1), int64(1), object(1)\n",
            "memory usage: 4.2+ MB\n",
            "None\n",
            "count    137735.000000\n",
            "mean          7.146673\n",
            "std           5.953919\n",
            "min           0.000000\n",
            "25%           2.000000\n",
            "50%           6.000000\n",
            "75%          11.000000\n",
            "max          38.000000\n",
            "Name: duration, dtype: float64\n",
            "count    110901.000000\n",
            "mean          8.875907\n",
            "std           5.355181\n",
            "min           1.000000\n",
            "25%           5.000000\n",
            "50%           8.000000\n",
            "75%          12.000000\n",
            "max          38.000000\n",
            "Name: duration, dtype: float64\n"
          ],
          "name": "stdout"
        }
      ]
    },
    {
      "cell_type": "markdown",
      "metadata": {
        "id": "P5hxAmACFaiT"
      },
      "source": [
        "Calls dataset has 4 columns with no duplicates and blanks. However there are 26834 values with 0 call duration. Removing these values has shifted the average call duartion from 6.7 min to 8.3 min. "
      ]
    },
    {
      "cell_type": "markdown",
      "metadata": {
        "id": "rTTwZzi2FaiT"
      },
      "source": [
        "\n",
        "<div class=\"alert alert-success\" role=\"alert\">\n",
        "Good work with calls data.\n",
        "</div>\n",
        "\n",
        "<div class=\"alert alert-danger\" role=\"alert\">\n",
        "You just need to add one thing. \n",
        "    \n",
        "From the task: Megaline always rounds up the minute and megabyte values. If the call lasted just one second, it will be counted as one minute. \n",
        "    \n",
        "So you need to round up each call. np.ceil() can help you here.\n",
        "</div>"
      ]
    },
    {
      "cell_type": "code",
      "metadata": {
        "scrolled": true,
        "id": "uEeLai1iFaiU",
        "outputId": "e6b401f1-6cc3-47d6-ec8b-6a3ac4523687"
      },
      "source": [
        "#internet dataset\n",
        "print(internet.info())\n",
        "print(internet.duplicated().sum())\n",
        "print(internet.isnull().sum())\n",
        "internet['session_date']=pd.to_datetime(internet['session_date'],format='%Y-%m-%d')\n",
        "internet['mb_used']=internet['mb_used'].apply(np.ceil)\n",
        "internet_new=internet.query('mb_used>0')\n",
        "print(internet.describe())\n",
        "print(internet_new.describe())"
      ],
      "execution_count": null,
      "outputs": [
        {
          "output_type": "stream",
          "text": [
            "<class 'pandas.core.frame.DataFrame'>\n",
            "RangeIndex: 104825 entries, 0 to 104824\n",
            "Data columns (total 4 columns):\n",
            "id              104825 non-null object\n",
            "user_id         104825 non-null int64\n",
            "session_date    104825 non-null object\n",
            "mb_used         104825 non-null float64\n",
            "dtypes: float64(1), int64(1), object(2)\n",
            "memory usage: 3.2+ MB\n",
            "None\n",
            "0\n",
            "id              0\n",
            "user_id         0\n",
            "session_date    0\n",
            "mb_used         0\n",
            "dtype: int64\n",
            "             user_id        mb_used\n",
            "count  104825.000000  104825.000000\n",
            "mean     1242.496361     367.142876\n",
            "std       142.053913     277.256974\n",
            "min      1000.000000       0.000000\n",
            "25%      1122.000000     137.000000\n",
            "50%      1236.000000     344.000000\n",
            "75%      1367.000000     555.000000\n",
            "max      1499.000000    1694.000000\n",
            "            user_id       mb_used\n",
            "count  91078.000000  91078.000000\n",
            "mean    1242.576923    422.558159\n",
            "std      141.992374    255.064363\n",
            "min     1000.000000      1.000000\n",
            "25%     1122.000000    224.000000\n",
            "50%     1236.000000    396.000000\n",
            "75%     1367.000000    589.000000\n",
            "max     1499.000000   1694.000000\n"
          ],
          "name": "stdout"
        }
      ]
    },
    {
      "cell_type": "markdown",
      "metadata": {
        "id": "CAemfO2FFaiV"
      },
      "source": [
        "<div class=\"alert alert-danger\" role=\"alert\">\n",
        "Same for internet traffic. Please update each session up to whole megabyte.\n",
        "</div>"
      ]
    },
    {
      "cell_type": "code",
      "metadata": {
        "id": "ZEvGRYlTFaiV",
        "outputId": "f17e0b7f-a9b5-460c-88ad-779d0836b533"
      },
      "source": [
        "#messages dataset\n",
        "print(messages.info())\n",
        "print(messages.duplicated().sum())\n",
        "print(messages.isnull().sum())\n",
        "messages['message_date']=pd.to_datetime(messages['message_date'],format='%Y-%m-%d')"
      ],
      "execution_count": null,
      "outputs": [
        {
          "output_type": "stream",
          "text": [
            "<class 'pandas.core.frame.DataFrame'>\n",
            "RangeIndex: 76051 entries, 0 to 76050\n",
            "Data columns (total 3 columns):\n",
            "id              76051 non-null object\n",
            "user_id         76051 non-null int64\n",
            "message_date    76051 non-null object\n",
            "dtypes: int64(1), object(2)\n",
            "memory usage: 1.7+ MB\n",
            "None\n",
            "0\n",
            "id              0\n",
            "user_id         0\n",
            "message_date    0\n",
            "dtype: int64\n"
          ],
          "name": "stdout"
        }
      ]
    },
    {
      "cell_type": "markdown",
      "metadata": {
        "id": "o0ESQiOkFaiW"
      },
      "source": [
        "<div class=\"alert alert-success\" role=\"alert\">\n",
        "Messages are OK.\n",
        "</div>"
      ]
    },
    {
      "cell_type": "code",
      "metadata": {
        "scrolled": true,
        "id": "Rf7v6t7KFaiW",
        "outputId": "5e0890e4-5e93-4871-d04d-9a8e441f291f"
      },
      "source": [
        "#plans dataset\n",
        "print(plans.info())\n",
        "print(plans.head(10))"
      ],
      "execution_count": null,
      "outputs": [
        {
          "output_type": "stream",
          "text": [
            "<class 'pandas.core.frame.DataFrame'>\n",
            "RangeIndex: 2 entries, 0 to 1\n",
            "Data columns (total 8 columns):\n",
            "messages_included        2 non-null int64\n",
            "mb_per_month_included    2 non-null int64\n",
            "minutes_included         2 non-null int64\n",
            "usd_monthly_pay          2 non-null int64\n",
            "usd_per_gb               2 non-null int64\n",
            "usd_per_message          2 non-null float64\n",
            "usd_per_minute           2 non-null float64\n",
            "plan_name                2 non-null object\n",
            "dtypes: float64(2), int64(5), object(1)\n",
            "memory usage: 256.0+ bytes\n",
            "None\n",
            "   messages_included  mb_per_month_included  minutes_included  \\\n",
            "0                 50                  15360               500   \n",
            "1               1000                  30720              3000   \n",
            "\n",
            "   usd_monthly_pay  usd_per_gb  usd_per_message  usd_per_minute plan_name  \n",
            "0               20          10             0.03            0.03      surf  \n",
            "1               70           7             0.01            0.01  ultimate  \n"
          ],
          "name": "stdout"
        }
      ]
    },
    {
      "cell_type": "code",
      "metadata": {
        "scrolled": true,
        "id": "iM94sHhWFaiX",
        "outputId": "635bee7f-12e6-412f-a1fb-32f97761b4ae"
      },
      "source": [
        "#users dataset\n",
        "print(users.info())\n",
        "print(users.head(10))\n",
        "print(users.isnull().sum())\n",
        "users['reg_date']=pd.to_datetime(users['reg_date'],format='%Y-%m-%d')\n",
        "users['churn_date']=users['churn_date'].fillna(0)\n",
        "users['churn_date']=pd.to_datetime(users['churn_date'],format='%Y-%m-%d')\n",
        "print(users.head(10))\n",
        "print(users.info())\n",
        "print(users.duplicated().sum())\n"
      ],
      "execution_count": null,
      "outputs": [
        {
          "output_type": "stream",
          "text": [
            "<class 'pandas.core.frame.DataFrame'>\n",
            "RangeIndex: 500 entries, 0 to 499\n",
            "Data columns (total 8 columns):\n",
            "user_id       500 non-null int64\n",
            "first_name    500 non-null object\n",
            "last_name     500 non-null object\n",
            "age           500 non-null int64\n",
            "city          500 non-null object\n",
            "reg_date      500 non-null object\n",
            "tariff        500 non-null object\n",
            "churn_date    34 non-null object\n",
            "dtypes: int64(2), object(6)\n",
            "memory usage: 31.4+ KB\n",
            "None\n",
            "   user_id first_name  last_name  age                                    city  \\\n",
            "0     1000   Anamaria      Bauer   45   Atlanta-Sandy Springs-Roswell, GA MSA   \n",
            "1     1001     Mickey  Wilkerson   28         Seattle-Tacoma-Bellevue, WA MSA   \n",
            "2     1002     Carlee    Hoffman   36    Las Vegas-Henderson-Paradise, NV MSA   \n",
            "3     1003   Reynaldo    Jenkins   52                           Tulsa, OK MSA   \n",
            "4     1004    Leonila   Thompson   40         Seattle-Tacoma-Bellevue, WA MSA   \n",
            "5     1005      Livia    Shields   31     Dallas-Fort Worth-Arlington, TX MSA   \n",
            "6     1006     Jesusa   Bradford   73  San Francisco-Oakland-Berkeley, CA MSA   \n",
            "7     1007    Eusebio      Welch   42           Grand Rapids-Kentwood, MI MSA   \n",
            "8     1008      Emely    Hoffman   53       Orlando-Kissimmee-Sanford, FL MSA   \n",
            "9     1009      Gerry     Little   19  San Jose-Sunnyvale-Santa Clara, CA MSA   \n",
            "\n",
            "     reg_date    tariff  churn_date  \n",
            "0  2018-12-24  ultimate         NaN  \n",
            "1  2018-08-13      surf         NaN  \n",
            "2  2018-10-21      surf         NaN  \n",
            "3  2018-01-28      surf         NaN  \n",
            "4  2018-05-23      surf         NaN  \n",
            "5  2018-11-29      surf         NaN  \n",
            "6  2018-11-27  ultimate  2018-12-18  \n",
            "7  2018-07-11      surf         NaN  \n",
            "8  2018-08-03  ultimate         NaN  \n",
            "9  2018-04-22      surf         NaN  \n",
            "user_id         0\n",
            "first_name      0\n",
            "last_name       0\n",
            "age             0\n",
            "city            0\n",
            "reg_date        0\n",
            "tariff          0\n",
            "churn_date    466\n",
            "dtype: int64\n",
            "   user_id first_name  last_name  age                                    city  \\\n",
            "0     1000   Anamaria      Bauer   45   Atlanta-Sandy Springs-Roswell, GA MSA   \n",
            "1     1001     Mickey  Wilkerson   28         Seattle-Tacoma-Bellevue, WA MSA   \n",
            "2     1002     Carlee    Hoffman   36    Las Vegas-Henderson-Paradise, NV MSA   \n",
            "3     1003   Reynaldo    Jenkins   52                           Tulsa, OK MSA   \n",
            "4     1004    Leonila   Thompson   40         Seattle-Tacoma-Bellevue, WA MSA   \n",
            "5     1005      Livia    Shields   31     Dallas-Fort Worth-Arlington, TX MSA   \n",
            "6     1006     Jesusa   Bradford   73  San Francisco-Oakland-Berkeley, CA MSA   \n",
            "7     1007    Eusebio      Welch   42           Grand Rapids-Kentwood, MI MSA   \n",
            "8     1008      Emely    Hoffman   53       Orlando-Kissimmee-Sanford, FL MSA   \n",
            "9     1009      Gerry     Little   19  San Jose-Sunnyvale-Santa Clara, CA MSA   \n",
            "\n",
            "    reg_date    tariff churn_date  \n",
            "0 2018-12-24  ultimate 1970-01-01  \n",
            "1 2018-08-13      surf 1970-01-01  \n",
            "2 2018-10-21      surf 1970-01-01  \n",
            "3 2018-01-28      surf 1970-01-01  \n",
            "4 2018-05-23      surf 1970-01-01  \n",
            "5 2018-11-29      surf 1970-01-01  \n",
            "6 2018-11-27  ultimate 2018-12-18  \n",
            "7 2018-07-11      surf 1970-01-01  \n",
            "8 2018-08-03  ultimate 1970-01-01  \n",
            "9 2018-04-22      surf 1970-01-01  \n",
            "<class 'pandas.core.frame.DataFrame'>\n",
            "RangeIndex: 500 entries, 0 to 499\n",
            "Data columns (total 8 columns):\n",
            "user_id       500 non-null int64\n",
            "first_name    500 non-null object\n",
            "last_name     500 non-null object\n",
            "age           500 non-null int64\n",
            "city          500 non-null object\n",
            "reg_date      500 non-null datetime64[ns]\n",
            "tariff        500 non-null object\n",
            "churn_date    500 non-null datetime64[ns]\n",
            "dtypes: datetime64[ns](2), int64(2), object(4)\n",
            "memory usage: 31.4+ KB\n",
            "None\n",
            "0\n"
          ],
          "name": "stdout"
        }
      ]
    },
    {
      "cell_type": "code",
      "metadata": {
        "id": "1dpwYlxkFaiY",
        "outputId": "ac4b292e-2b11-4d25-cdcd-9997bf48bc9f"
      },
      "source": [
        "#The number of calls made and minutes used per month\n",
        "calls['month']=pd.DatetimeIndex(calls['call_date']).month\n",
        "data_1=pd.merge(users, calls, on='user_id',how='left')\n",
        "data_1.reset_index(inplace=True)\n",
        "calls_peruser=data_1.pivot_table(index=['user_id','month','tariff'],values='duration',aggfunc=['count','sum'])\n",
        "calls_peruser.columns=['no_of_calls','minutes_used']\n",
        "calls_peruser.reset_index(inplace=True)\n",
        "print(calls_peruser)"
      ],
      "execution_count": null,
      "outputs": [
        {
          "output_type": "stream",
          "text": [
            "      user_id  month    tariff  no_of_calls  minutes_used\n",
            "0        1000   12.0  ultimate           16         124.0\n",
            "1        1001    8.0      surf           27         182.0\n",
            "2        1001    9.0      surf           49         315.0\n",
            "3        1001   10.0      surf           65         393.0\n",
            "4        1001   11.0      surf           64         426.0\n",
            "...       ...    ...       ...          ...           ...\n",
            "2253     1498   12.0      surf           39         339.0\n",
            "2254     1499    9.0      surf           41         346.0\n",
            "2255     1499   10.0      surf           53         385.0\n",
            "2256     1499   11.0      surf           45         308.0\n",
            "2257     1499   12.0      surf           65         496.0\n",
            "\n",
            "[2258 rows x 5 columns]\n"
          ],
          "name": "stdout"
        }
      ]
    },
    {
      "cell_type": "code",
      "metadata": {
        "id": "-uBk3NtCFaiZ",
        "outputId": "6e8f8f1e-ab7e-4000-d528-db993415243d"
      },
      "source": [
        "#The number of text messages sent per month\n",
        "messages['month']=pd.DatetimeIndex(messages['message_date']).month.astype('int')\n",
        "data_2=pd.merge(users,messages, on='user_id', how='left')\n",
        "data_2.reset_index(inplace=True)\n",
        "messages_peruser=data_2.pivot_table(index=['user_id','month','tariff'], values='id', aggfunc='count')\n",
        "messages_peruser.columns=['no_messages']\n",
        "messages_peruser.reset_index(inplace=True)\n",
        "print(messages_peruser)"
      ],
      "execution_count": null,
      "outputs": [
        {
          "output_type": "stream",
          "text": [
            "      user_id  month    tariff  no_messages\n",
            "0        1000   12.0  ultimate           11\n",
            "1        1001    8.0      surf           30\n",
            "2        1001    9.0      surf           44\n",
            "3        1001   10.0      surf           53\n",
            "4        1001   11.0      surf           36\n",
            "...       ...    ...       ...          ...\n",
            "1801     1496    9.0      surf           21\n",
            "1802     1496   10.0      surf           18\n",
            "1803     1496   11.0      surf           13\n",
            "1804     1496   12.0      surf           11\n",
            "1805     1497   12.0  ultimate           50\n",
            "\n",
            "[1806 rows x 4 columns]\n"
          ],
          "name": "stdout"
        }
      ]
    },
    {
      "cell_type": "code",
      "metadata": {
        "id": "gfXFz9pSFaia",
        "outputId": "35927f3f-33d3-4bbc-f3ea-d278b15c4774"
      },
      "source": [
        "#The volume of data per month\n",
        "internet['month']=pd.DatetimeIndex(internet['session_date']).month.astype('int')\n",
        "data_3=pd.merge(users,internet, on='user_id', how='left')\n",
        "data_3.reset_index(inplace=True)\n",
        "data_peruser=data_3.pivot_table(index=['user_id', 'month','tariff'], values='mb_used', aggfunc='sum')\n",
        "data_peruser.columns=['data_used']\n",
        "data_peruser.reset_index(inplace=True)\n",
        "print(data_peruser)"
      ],
      "execution_count": null,
      "outputs": [
        {
          "output_type": "stream",
          "text": [
            "      user_id  month    tariff  data_used\n",
            "0        1000   12.0  ultimate     1903.0\n",
            "1        1001    8.0      surf     6929.0\n",
            "2        1001    9.0      surf    13333.0\n",
            "3        1001   10.0      surf    22356.0\n",
            "4        1001   11.0      surf    18524.0\n",
            "...       ...    ...       ...        ...\n",
            "2272     1498   12.0      surf    23160.0\n",
            "2273     1499    9.0      surf    13004.0\n",
            "2274     1499   10.0      surf    19515.0\n",
            "2275     1499   11.0      surf    16834.0\n",
            "2276     1499   12.0      surf    22091.0\n",
            "\n",
            "[2277 rows x 4 columns]\n"
          ],
          "name": "stdout"
        }
      ]
    },
    {
      "cell_type": "code",
      "metadata": {
        "id": "lfayTRYJFaib",
        "outputId": "e1798b01-0453-47f8-f519-1524cd7cb925"
      },
      "source": [
        "#monthly profit data preparation\n",
        "import numpy as np\n",
        "new_data1=calls_peruser.merge(messages_peruser, on=['user_id','month','tariff'], how='outer')\n",
        "final=new_data1.merge(data_peruser, on=['user_id','month','tariff'], how='outer')\n",
        "print(final.head(10))\n",
        "final['no_of_calls']=final['no_of_calls'].fillna(0)\n",
        "final['minutes_used']=final['minutes_used'].fillna(0)\n",
        "final['no_messages']=final['no_messages'].fillna(0)\n",
        "final['data_used']=final['data_used'].fillna(0)\n",
        "print(final.isnull().sum())\n",
        "final['no_of_calls']=final['no_of_calls'].apply(np.ceil).astype('int')\n",
        "final['minutes_used']=final['minutes_used'].apply(np.ceil).astype('int')\n",
        "final['no_messages']=final['no_messages'].apply(np.ceil).astype('int')\n",
        "final['data_used']=(final['data_used']/1000).apply(np.ceil).astype('int')\n",
        "print(final.info())"
      ],
      "execution_count": null,
      "outputs": [
        {
          "output_type": "stream",
          "text": [
            "   user_id  month    tariff  no_of_calls  minutes_used  no_messages  data_used\n",
            "0     1000   12.0  ultimate         16.0         124.0         11.0     1903.0\n",
            "1     1001    8.0      surf         27.0         182.0         30.0     6929.0\n",
            "2     1001    9.0      surf         49.0         315.0         44.0    13333.0\n",
            "3     1001   10.0      surf         65.0         393.0         53.0    22356.0\n",
            "4     1001   11.0      surf         64.0         426.0         36.0    18524.0\n",
            "5     1001   12.0      surf         56.0         412.0         44.0    19398.0\n",
            "6     1002   10.0      surf         11.0          59.0         15.0     6559.0\n",
            "7     1002   11.0      surf         55.0         386.0         32.0    19364.0\n",
            "8     1002   12.0      surf         47.0         384.0         41.0    14416.0\n",
            "9     1003   12.0      surf        149.0        1104.0         50.0    27069.0\n",
            "user_id         0\n",
            "month           0\n",
            "tariff          0\n",
            "no_of_calls     0\n",
            "minutes_used    0\n",
            "no_messages     0\n",
            "data_used       0\n",
            "dtype: int64\n",
            "<class 'pandas.core.frame.DataFrame'>\n",
            "Int64Index: 2293 entries, 0 to 2292\n",
            "Data columns (total 7 columns):\n",
            "user_id         2293 non-null int64\n",
            "month           2293 non-null float64\n",
            "tariff          2293 non-null object\n",
            "no_of_calls     2293 non-null int64\n",
            "minutes_used    2293 non-null int64\n",
            "no_messages     2293 non-null int64\n",
            "data_used       2293 non-null int64\n",
            "dtypes: float64(1), int64(5), object(1)\n",
            "memory usage: 143.3+ KB\n",
            "None\n"
          ],
          "name": "stdout"
        }
      ]
    },
    {
      "cell_type": "code",
      "metadata": {
        "id": "IKQjL6vGFaic",
        "outputId": "126a32dc-18b3-4471-856f-2ecec1277da7"
      },
      "source": [
        "#monthly profit per user per month calculated\n",
        "import warnings\n",
        "warnings.filterwarnings('ignore')\n",
        "final_ultimate=final.query('tariff==\"ultimate\"')\n",
        "final_ultimate['extra']=(final_ultimate['minutes_used']-3000)*0.01+(final_ultimate['no_messages']-1000)*0.01+(final_ultimate['data_used']-30)*7\n",
        "final_ultimate.loc[final_ultimate['extra']<0,'extra']=0\n",
        "final_ultimate['profit_ultimate']=final_ultimate['extra']+70\n",
        "print(final_ultimate)\n",
        "\n",
        "final_surf=final.query('tariff==\"surf\"')\n",
        "final_surf.reset_index()\n",
        "final_surf['extra']=(final_surf['minutes_used']-500)*0.03+(final_surf['no_messages']-50)*0.03+(final_surf['data_used']-15)*10\n",
        "final_surf.loc[final_surf['extra']<0,'extra']=0\n",
        "final_surf['profit_surf']=final_surf['extra']+20\n",
        "\n",
        "print(final_surf)    "
      ],
      "execution_count": null,
      "outputs": [
        {
          "output_type": "stream",
          "text": [
            "      user_id  month    tariff  no_of_calls  minutes_used  no_messages  \\\n",
            "0        1000   12.0  ultimate           16           124           11   \n",
            "19       1006   11.0  ultimate            2            10           15   \n",
            "20       1006   12.0  ultimate            9            59          139   \n",
            "26       1008   10.0  ultimate           71           476           21   \n",
            "27       1008   11.0  ultimate           63           446           37   \n",
            "...       ...    ...       ...          ...           ...          ...   \n",
            "2284     1204   12.0  ultimate            0             0           78   \n",
            "2285     1224    6.0  ultimate            0             0            5   \n",
            "2290     1482   10.0  ultimate            0             0            2   \n",
            "2291     1108   12.0  ultimate            0             0            0   \n",
            "2292     1311    6.0  ultimate            0             0            0   \n",
            "\n",
            "      data_used  extra  profit_ultimate  \n",
            "0             2   0.00            70.00  \n",
            "19            3   0.00            70.00  \n",
            "20           33   0.00            70.00  \n",
            "26           18   0.00            70.00  \n",
            "27           24   0.00            70.00  \n",
            "...         ...    ...              ...  \n",
            "2284         37   9.78            79.78  \n",
            "2285          3   0.00            70.00  \n",
            "2290          0   0.00            70.00  \n",
            "2291          1   0.00            70.00  \n",
            "2292          2   0.00            70.00  \n",
            "\n",
            "[720 rows x 9 columns]\n",
            "      user_id  month tariff  no_of_calls  minutes_used  no_messages  \\\n",
            "1        1001    8.0   surf           27           182           30   \n",
            "2        1001    9.0   surf           49           315           44   \n",
            "3        1001   10.0   surf           65           393           53   \n",
            "4        1001   11.0   surf           64           426           36   \n",
            "5        1001   12.0   surf           56           412           44   \n",
            "...       ...    ...    ...          ...           ...          ...   \n",
            "2282     1194   12.0   surf            0             0           56   \n",
            "2286     1349   10.0   surf            0             0           76   \n",
            "2287     1349   11.0   surf            0             0           72   \n",
            "2288     1349   12.0   surf            0             0           61   \n",
            "2289     1361    5.0   surf            0             0            2   \n",
            "\n",
            "      data_used   extra  profit_surf  \n",
            "1             7    0.00        20.00  \n",
            "2            14    0.00        20.00  \n",
            "3            23   76.88        96.88  \n",
            "4            19   37.36        57.36  \n",
            "5            20   47.18        67.18  \n",
            "...         ...     ...          ...  \n",
            "2282         32  155.18       175.18  \n",
            "2286         14    0.00        20.00  \n",
            "2287         18   15.66        35.66  \n",
            "2288         14    0.00        20.00  \n",
            "2289          2    0.00        20.00  \n",
            "\n",
            "[1573 rows x 9 columns]\n"
          ],
          "name": "stdout"
        }
      ]
    },
    {
      "cell_type": "markdown",
      "metadata": {
        "id": "d-NydZ5FFaid"
      },
      "source": [
        "<div class=\"alert alert-warning\" role=\"alert\">\n",
        "Profit calculations are correct but you've used hardcoded numbers. It is not a good practice. You have a tariff dataset so you can use appropriate values from there. And if something changed in tariff your code will work correctly without fixing.</div>\n",
        "\n",
        "Also you can use this code to disable warnings\n",
        "\n",
        "``import warnings\n",
        "warnings.filterwarnings('ignore')``\n",
        "\n",
        "---"
      ]
    },
    {
      "cell_type": "markdown",
      "metadata": {
        "id": "2MZNKC9kFaie"
      },
      "source": [
        "Conclusion for Preparing the data:\n",
        "The datatype for date column was not correct in all 4 datasets. The format changed from object to datetime. There are 0 values in both calls data and internet data. However removing 0 values shift the average and may give artificially higher usage in terms of calls and internet. Hence I have kept the 0 value rows for further data analysis. The total no of users in surf are much higher than ultimate, hecne the total sales from surf plan customers is much higher then ultimate customers."
      ]
    },
    {
      "cell_type": "markdown",
      "metadata": {
        "id": "5SGTe04RFaie"
      },
      "source": [
        "Step 3: Analyzing the data"
      ]
    },
    {
      "cell_type": "markdown",
      "metadata": {
        "id": "V-ME5trWFaie"
      },
      "source": [
        "<div class=\"alert alert-warning\" role=\"alert\">\n",
        "In markdown cells, you can use markdown language to nicely format  your projects. It is a powerful formatting language. So if you spend some time learning it you can then prepare better looking projects.</div>\n",
        "\n",
        "Here is a link to short tutorial: https://www.markdowntutorial.com/"
      ]
    },
    {
      "cell_type": "code",
      "metadata": {
        "id": "qLPebV6EFaif",
        "outputId": "08caaa9e-84ab-4e51-c8c9-57e8e7885688"
      },
      "source": [
        "#minutes, texts, and volume of data the users of each plan require per month\n",
        "print(final_ultimate.groupby('month')['minutes_used','no_messages','data_used'].sum())\n",
        "print(final_surf.groupby('month')['minutes_used','no_messages','data_used'].sum())\n",
        "print(final_ultimate.describe())\n",
        "print(final_surf.describe())"
      ],
      "execution_count": null,
      "outputs": [
        {
          "output_type": "stream",
          "text": [
            "       minutes_used  no_messages  data_used\n",
            "month                                      \n",
            "1.0             774           62         29\n",
            "2.0            2822          151        123\n",
            "3.0            3651          243        226\n",
            "4.0            7074          463        346\n",
            "5.0           11781          931        495\n",
            "6.0           17435         1379        744\n",
            "7.0           25197         1937        994\n",
            "8.0           29922         2732       1305\n",
            "9.0           37626         3259       1511\n",
            "10.0          47778         4181       1919\n",
            "11.0          56540         4903       2230\n",
            "12.0          69324         6796       2847\n",
            "       minutes_used  no_messages  data_used\n",
            "month                                      \n",
            "1.0             406           21         10\n",
            "2.0            2673          108        114\n",
            "3.0            7590          351        318\n",
            "4.0           17577          870        622\n",
            "5.0           30768         1849       1113\n",
            "6.0           41836         2454       1530\n",
            "7.0           54448         3271       2094\n",
            "8.0           66438         4662       2800\n",
            "9.0           80360         5968       3318\n",
            "10.0         101846         8020       4216\n",
            "11.0         119801         9165       4770\n",
            "12.0         150680        12275       5928\n",
            "           user_id       month  no_of_calls  minutes_used  no_messages  \\\n",
            "count   720.000000  720.000000   720.000000    720.000000   720.000000   \n",
            "mean   1253.330556    9.151389    60.626389    430.450000    37.551389   \n",
            "std     150.915644    2.558495    33.242994    240.508762    34.767179   \n",
            "min    1000.000000    1.000000     0.000000      0.000000     0.000000   \n",
            "25%    1126.000000    8.000000    36.000000    260.000000     7.000000   \n",
            "50%    1241.500000   10.000000    61.000000    424.000000    30.000000   \n",
            "75%    1401.000000   11.000000    80.000000    565.250000    61.000000   \n",
            "max    1497.000000   12.000000   191.000000   1369.000000   166.000000   \n",
            "\n",
            "        data_used       extra  profit_ultimate  \n",
            "count  720.000000  720.000000       720.000000  \n",
            "mean    17.734722    0.962403        70.962403  \n",
            "std      7.869267    6.532946         6.532946  \n",
            "min      0.000000    0.000000        70.000000  \n",
            "25%     13.000000    0.000000        70.000000  \n",
            "50%     17.000000    0.000000        70.000000  \n",
            "75%     22.000000    0.000000        70.000000  \n",
            "max     47.000000   82.680000       152.680000  \n",
            "           user_id        month  no_of_calls  minutes_used  no_messages  \\\n",
            "count  1573.000000  1573.000000  1573.000000   1573.000000  1573.000000   \n",
            "mean   1242.755245     9.182454    59.811825    428.749523    31.159568   \n",
            "std     139.227939     2.468199    32.017989    234.453150    33.566717   \n",
            "min    1001.000000     1.000000     0.000000      0.000000     0.000000   \n",
            "25%    1120.000000     8.000000    39.000000    272.000000     3.000000   \n",
            "50%    1245.000000    10.000000    60.000000    425.000000    24.000000   \n",
            "75%    1358.000000    11.000000    79.000000    576.000000    47.000000   \n",
            "max    1499.000000    12.000000   205.000000   1510.000000   266.000000   \n",
            "\n",
            "         data_used        extra  profit_surf  \n",
            "count  1573.000000  1573.000000  1573.000000  \n",
            "mean     17.058487    41.257228    61.257228  \n",
            "std       8.020831    56.907328    56.907328  \n",
            "min       0.000000     0.000000    20.000000  \n",
            "25%      13.000000     0.000000    20.000000  \n",
            "50%      17.000000    21.530000    41.530000  \n",
            "75%      22.000000    64.710000    84.710000  \n",
            "max      71.000000   580.370000   600.370000  \n"
          ],
          "name": "stdout"
        }
      ]
    },
    {
      "cell_type": "markdown",
      "metadata": {
        "id": "cZsjH4hoFaif"
      },
      "source": [
        "The comparison of the two plans shows that ultimate plan users are on an average spending 80USD which is only 10 dollars increased from the plan price, while most of the surf customers are spending more than double of the plan price on an average."
      ]
    },
    {
      "cell_type": "code",
      "metadata": {
        "id": "yWmCz8JcFaig",
        "outputId": "a43a0e83-c728-47c8-d759-fb47834ca885"
      },
      "source": [
        "#histograms to see the distribution\n",
        "\n",
        "a=final_ultimate.plot(kind='hist', y='minutes_used', legend=True, histtype='step', label='ultimate_minutes')\n",
        "final_surf.plot(kind='hist',y='minutes_used', legend=True, histtype='step', ax=a, label='surf_minutes')\n",
        "\n",
        "b=final_ultimate.plot(kind='hist', y='no_messages', legend=True, histtype='step', label='ultimate_messages')\n",
        "final_surf.plot(kind='hist',y='no_messages', legend=True, histtype='step', ax=b, label='surf_messages')\n",
        "\n",
        "c=final_ultimate.plot(kind='hist', y='data_used', legend=True, histtype='step', label='ultimate_data')\n",
        "final_surf.plot(kind='hist',y='data_used', legend=True, histtype='step', ax=c, label='surf_data')\n"
      ],
      "execution_count": null,
      "outputs": [
        {
          "output_type": "execute_result",
          "data": {
            "text/plain": [
              "<matplotlib.axes._subplots.AxesSubplot at 0x7ff97431bdd0>"
            ]
          },
          "metadata": {
            "tags": []
          },
          "execution_count": 13
        },
        {
          "output_type": "display_data",
          "data": {
            "image/png": "[encoded data removed]",
            "text/plain": [
              "<Figure size 432x288 with 1 Axes>"
            ]
          },
          "metadata": {
            "tags": [],
            "needs_background": "light"
          }
        },
        {
          "output_type": "display_data",
          "data": {
            "image/png": "[encoded data removed]",
            "text/plain": [
              "<Figure size 432x288 with 1 Axes>"
            ]
          },
          "metadata": {
            "tags": [],
            "needs_background": "light"
          }
        },
        {
          "output_type": "display_data",
          "data": {
            "image/png": "[encoded data removed]",
            "text/plain": [
              "<Figure size 432x288 with 1 Axes>"
            ]
          },
          "metadata": {
            "tags": [],
            "needs_background": "light"
          }
        }
      ]
    },
    {
      "cell_type": "markdown",
      "metadata": {
        "id": "peavEk7VFaig"
      },
      "source": [
        "-Distribution for all the 3 parameters, minutes used, data used and messages used shows that even if ultimate plan has much higher call minutes, data and messages incldued in the plan compared to surf plan, still the usage distribution for both the plans remains similar."
      ]
    },
    {
      "cell_type": "markdown",
      "metadata": {
        "id": "gEj_CovKFaih"
      },
      "source": [
        "<div class=\"alert alert-success\" role=\"alert\">\n",
        "Everything is correct here\n",
        "</div>"
      ]
    },
    {
      "cell_type": "markdown",
      "metadata": {
        "id": "wJbUDISxFaih"
      },
      "source": [
        "4.Hypothesis testing"
      ]
    },
    {
      "cell_type": "code",
      "metadata": {
        "id": "IkV0ySquFaih",
        "outputId": "1b35fce3-c519-4e72-98f7-8c9fdf7a588f"
      },
      "source": [
        "#H0:The average profit from users of Ultimate and Surf calling plans are same\n",
        "#H1:The average profit from users of Ultimate and Surf calling plans differs\n",
        "\n",
        "from scipy import stats as st\n",
        "plan_ultimate=final_ultimate['profit_ultimate']\n",
        "plan_surf=final_surf['profit_surf']\n",
        "alpha=0.05\n",
        "results=st.ttest_ind(plan_ultimate,plan_surf)\n",
        "print('p-value:',results.pvalue)\n",
        "\n",
        "if (results.pvalue<alpha):\n",
        "    print('we reject the null hypothesis')   \n",
        "else:\n",
        "    print('we cannot reject the null hypothesis')"
      ],
      "execution_count": null,
      "outputs": [
        {
          "output_type": "stream",
          "text": [
            "p-value: 5.336950259955032e-06\n",
            "we reject the null hypothesis\n"
          ],
          "name": "stdout"
        }
      ]
    },
    {
      "cell_type": "markdown",
      "metadata": {
        "id": "QTYooPNBFaii"
      },
      "source": [
        "Null hypothesis usually assumes there is no difference and hence I considered H0 that there is no difference in the average profits from two plans.\n",
        "T-test shows that if we assume null hypothesis is correct, then the probability of the difference which is there in the mean of the two data sets is less then 5%, hence we reject the null hypothesis. This shows that the average profits between two plans are not same."
      ]
    },
    {
      "cell_type": "code",
      "metadata": {
        "id": "rE3ib5p1Faii",
        "outputId": "0ff6944f-e781-4423-c7f6-16ecacd685c0"
      },
      "source": [
        "#lemmatization to classify address into two categories NY-NJ and Others\n",
        "\n",
        "import nltk\n",
        "from nltk.stem import WordNetLemmatizer\n",
        "wordnet_lemma = WordNetLemmatizer()\n",
        "\n",
        "def lemmatise_text(row):\n",
        "    return [wordnet_lemma.lemmatize(row, pos='n') for row in nltk.word_tokenize(row)]\n",
        "users['lemma_city']=users['city'].apply(lemmatise_text)\n",
        "print(users)\n",
        "\n",
        "def city_name(row):\n",
        "    if 'York-Newark-Jersey' in row:\n",
        "        return 'NY-NJ'\n",
        "    else:\n",
        "        return 'Others'\n",
        "    \n",
        "users['new_city']=users['lemma_city'].apply(city_name)\n",
        "print(users['new_city'].unique())\n"
      ],
      "execution_count": null,
      "outputs": [
        {
          "output_type": "stream",
          "text": [
            "     user_id first_name   last_name  age  \\\n",
            "0       1000   Anamaria       Bauer   45   \n",
            "1       1001     Mickey   Wilkerson   28   \n",
            "2       1002     Carlee     Hoffman   36   \n",
            "3       1003   Reynaldo     Jenkins   52   \n",
            "4       1004    Leonila    Thompson   40   \n",
            "..       ...        ...         ...  ...   \n",
            "495     1495      Fidel      Sharpe   67   \n",
            "496     1496      Ariel    Shepherd   49   \n",
            "497     1497      Donte     Barrera   49   \n",
            "498     1498       Scot  Williamson   51   \n",
            "499     1499      Shena     Dickson   37   \n",
            "\n",
            "                                          city   reg_date    tariff  \\\n",
            "0        Atlanta-Sandy Springs-Roswell, GA MSA 2018-12-24  ultimate   \n",
            "1              Seattle-Tacoma-Bellevue, WA MSA 2018-08-13      surf   \n",
            "2         Las Vegas-Henderson-Paradise, NV MSA 2018-10-21      surf   \n",
            "3                                Tulsa, OK MSA 2018-01-28      surf   \n",
            "4              Seattle-Tacoma-Bellevue, WA MSA 2018-05-23      surf   \n",
            "..                                         ...        ...       ...   \n",
            "495  New York-Newark-Jersey City, NY-NJ-PA MSA 2018-09-04      surf   \n",
            "496               New Orleans-Metairie, LA MSA 2018-02-20      surf   \n",
            "497     Los Angeles-Long Beach-Anaheim, CA MSA 2018-12-10  ultimate   \n",
            "498  New York-Newark-Jersey City, NY-NJ-PA MSA 2018-02-04      surf   \n",
            "499          Orlando-Kissimmee-Sanford, FL MSA 2018-05-06      surf   \n",
            "\n",
            "    churn_date                                         lemma_city  \n",
            "0   1970-01-01       [Atlanta-Sandy, Springs-Roswell, ,, GA, MSA]  \n",
            "1   1970-01-01              [Seattle-Tacoma-Bellevue, ,, WA, MSA]  \n",
            "2   1970-01-01        [Las, Vegas-Henderson-Paradise, ,, NV, MSA]  \n",
            "3   1970-01-01                                [Tulsa, ,, OK, MSA]  \n",
            "4   1970-01-01              [Seattle-Tacoma-Bellevue, ,, WA, MSA]  \n",
            "..         ...                                                ...  \n",
            "495 1970-01-01  [New, York-Newark-Jersey, City, ,, NY-NJ-PA, MSA]  \n",
            "496 1970-01-01                [New, Orleans-Metairie, ,, LA, MSA]  \n",
            "497 1970-01-01     [Los, Angeles-Long, Beach-Anaheim, ,, CA, MSA]  \n",
            "498 1970-01-01  [New, York-Newark-Jersey, City, ,, NY-NJ-PA, MSA]  \n",
            "499 1970-01-01            [Orlando-Kissimmee-Sanford, ,, FL, MSA]  \n",
            "\n",
            "[500 rows x 9 columns]\n",
            "['Others' 'NY-NJ']\n"
          ],
          "name": "stdout"
        }
      ]
    },
    {
      "cell_type": "markdown",
      "metadata": {
        "id": "VijjXe11Faii"
      },
      "source": [
        "Combining profits into the users table along with new_city name"
      ]
    },
    {
      "cell_type": "code",
      "metadata": {
        "scrolled": true,
        "id": "3DXBf0jxFaij",
        "outputId": "8db2e9ae-a038-49ac-b316-6fd49d45b794"
      },
      "source": [
        "final_ultimate1=final_ultimate.pivot_table(index='user_id', values='profit_ultimate', aggfunc='sum')\n",
        "final_ultimate1.reset_index(inplace=True)\n",
        "final_ultimate1.columns=['user_id','profit']\n",
        "#print(final_ultimate1)\n",
        "final_surf1=final_surf.pivot_table(index='user_id', values='profit_surf', aggfunc='sum')\n",
        "final_surf1.reset_index(inplace=True)\n",
        "final_surf1.columns=['user_id','profit']\n",
        "#print(final_surf1)\n",
        "new=pd.concat([final_ultimate1,final_surf1], ignore_index=True)\n",
        "#print(new)\n",
        "users_with_profit=users.merge(new, on='user_id', how='left')\n",
        "print(users_with_profit)"
      ],
      "execution_count": null,
      "outputs": [
        {
          "output_type": "stream",
          "text": [
            "     user_id first_name   last_name  age  \\\n",
            "0       1000   Anamaria       Bauer   45   \n",
            "1       1001     Mickey   Wilkerson   28   \n",
            "2       1002     Carlee     Hoffman   36   \n",
            "3       1003   Reynaldo     Jenkins   52   \n",
            "4       1004    Leonila    Thompson   40   \n",
            "..       ...        ...         ...  ...   \n",
            "495     1495      Fidel      Sharpe   67   \n",
            "496     1496      Ariel    Shepherd   49   \n",
            "497     1497      Donte     Barrera   49   \n",
            "498     1498       Scot  Williamson   51   \n",
            "499     1499      Shena     Dickson   37   \n",
            "\n",
            "                                          city   reg_date    tariff  \\\n",
            "0        Atlanta-Sandy Springs-Roswell, GA MSA 2018-12-24  ultimate   \n",
            "1              Seattle-Tacoma-Bellevue, WA MSA 2018-08-13      surf   \n",
            "2         Las Vegas-Henderson-Paradise, NV MSA 2018-10-21      surf   \n",
            "3                                Tulsa, OK MSA 2018-01-28      surf   \n",
            "4              Seattle-Tacoma-Bellevue, WA MSA 2018-05-23      surf   \n",
            "..                                         ...        ...       ...   \n",
            "495  New York-Newark-Jersey City, NY-NJ-PA MSA 2018-09-04      surf   \n",
            "496               New Orleans-Metairie, LA MSA 2018-02-20      surf   \n",
            "497     Los Angeles-Long Beach-Anaheim, CA MSA 2018-12-10  ultimate   \n",
            "498  New York-Newark-Jersey City, NY-NJ-PA MSA 2018-02-04      surf   \n",
            "499          Orlando-Kissimmee-Sanford, FL MSA 2018-05-06      surf   \n",
            "\n",
            "    churn_date                                         lemma_city new_city  \\\n",
            "0   1970-01-01       [Atlanta-Sandy, Springs-Roswell, ,, GA, MSA]   Others   \n",
            "1   1970-01-01              [Seattle-Tacoma-Bellevue, ,, WA, MSA]   Others   \n",
            "2   1970-01-01        [Las, Vegas-Henderson-Paradise, ,, NV, MSA]   Others   \n",
            "3   1970-01-01                                [Tulsa, ,, OK, MSA]   Others   \n",
            "4   1970-01-01              [Seattle-Tacoma-Bellevue, ,, WA, MSA]   Others   \n",
            "..         ...                                                ...      ...   \n",
            "495 1970-01-01  [New, York-Newark-Jersey, City, ,, NY-NJ-PA, MSA]    NY-NJ   \n",
            "496 1970-01-01                [New, Orleans-Metairie, ,, LA, MSA]   Others   \n",
            "497 1970-01-01     [Los, Angeles-Long, Beach-Anaheim, ,, CA, MSA]   Others   \n",
            "498 1970-01-01  [New, York-Newark-Jersey, City, ,, NY-NJ-PA, MSA]    NY-NJ   \n",
            "499 1970-01-01            [Orlando-Kissimmee-Sanford, ,, FL, MSA]   Others   \n",
            "\n",
            "     profit  \n",
            "0     70.00  \n",
            "1    261.42  \n",
            "2    106.04  \n",
            "3    168.12  \n",
            "4    611.80  \n",
            "..      ...  \n",
            "495  476.95  \n",
            "496  129.20  \n",
            "497   70.00  \n",
            "498  814.19  \n",
            "499  216.17  \n",
            "\n",
            "[500 rows x 11 columns]\n"
          ],
          "name": "stdout"
        }
      ]
    },
    {
      "cell_type": "code",
      "metadata": {
        "id": "c4tktXwDFaij",
        "outputId": "c0f4618e-2c75-4210-a66e-636690d23303"
      },
      "source": [
        "#creating seperate datasets for hypothesis testing\n",
        "\n",
        "ny_data=users_with_profit.query('new_city==\"NY-NJ\"').pivot_table(index='user_id', values='profit', aggfunc='sum')\n",
        "ny_data.reset_index(inplace=True)\n",
        "#print(ny_data)\n",
        "\n",
        "other_data=users_with_profit.query('new_city==\"Others\"').pivot_table(index='user_id', values='profit', aggfunc='sum')\n",
        "other_data.reset_index(inplace=True)\n",
        "#print(other_data)\n",
        "\n",
        "ny_data_test=ny_data['profit']\n",
        "other_data_test=other_data['profit']\n",
        "print(ny_data_test)\n",
        "print(other_data_test)\n"
      ],
      "execution_count": null,
      "outputs": [
        {
          "output_type": "stream",
          "text": [
            "0      40.00\n",
            "1     480.84\n",
            "2      20.00\n",
            "3     204.13\n",
            "4     420.00\n",
            "       ...  \n",
            "75    191.39\n",
            "76    210.00\n",
            "77    207.93\n",
            "78    476.95\n",
            "79    814.19\n",
            "Name: profit, Length: 80, dtype: float64\n",
            "0       70.00\n",
            "1      261.42\n",
            "2      106.04\n",
            "3      168.12\n",
            "4      611.80\n",
            "        ...  \n",
            "415     96.94\n",
            "416    350.00\n",
            "417    129.20\n",
            "418     70.00\n",
            "419    216.17\n",
            "Name: profit, Length: 420, dtype: float64\n"
          ],
          "name": "stdout"
        }
      ]
    },
    {
      "cell_type": "markdown",
      "metadata": {
        "id": "N6soE7dyFaij"
      },
      "source": [
        "The average profit from users in NY-NJ area is different from that of the users from other regions."
      ]
    },
    {
      "cell_type": "code",
      "metadata": {
        "id": "9lRW1UExFaik",
        "outputId": "2cc9ef79-b3a2-4360-db0e-1710b2588de1"
      },
      "source": [
        "#H0:The average profit from users in NY-NJ area is similar to users from other regions.\n",
        "#H1:The average profit from users in NY-NJ area is different from that of the users from other regions.\n",
        "\n",
        "alpha=0.05\n",
        "results2=st.ttest_ind(ny_data_test, other_data_test)\n",
        "print('p-value:',results2.pvalue)\n",
        "\n",
        "if (results2.pvalue<alpha):\n",
        "    print('we reject the null hypothesis')   \n",
        "else:\n",
        "    print('we cannot reject the null hypothesis')"
      ],
      "execution_count": null,
      "outputs": [
        {
          "output_type": "stream",
          "text": [
            "p-value: 0.698372989567885\n",
            "we cannot reject the null hypothesis\n"
          ],
          "name": "stdout"
        }
      ]
    },
    {
      "cell_type": "markdown",
      "metadata": {
        "id": "roSIsbUjFaik"
      },
      "source": [
        "Null hypothesis usually assumes there is no difference and hence I considered H0 that there is no difference in the average profits from NY-NJ area and other areas.\n",
        "T-test shows that if we assume null hypothesis is correct, then the probability of the difference which is there in the mean of the two data sets is 68.5% which is very high, hence we cannot reject the null hypothesis. This shows that the average profits between two plans are similar."
      ]
    },
    {
      "cell_type": "markdown",
      "metadata": {
        "id": "ZY0O8a1dFaik"
      },
      "source": [
        "<div class=\"alert alert-success\" role=\"alert\">\n",
        "Good work. All the questions were explained.</div>"
      ]
    },
    {
      "cell_type": "markdown",
      "metadata": {
        "id": "mExDTNoKFail"
      },
      "source": [
        "Overall conclusion"
      ]
    },
    {
      "cell_type": "markdown",
      "metadata": {
        "id": "lI9-VLniFail"
      },
      "source": [
        "1. Since surf is a cheaper plan, hence the number of users are high (almost double) compared to the no of users of ultimate plan.\n",
        "2. In between two plans, there are significant differnces in no of minutes, data and messages included. Yet, the average usage among users remain similar. Because of which users of surf plan on an average spend 60USD which is much higher then the monthly charge. While the users of ultimate plan does not spend more than the monthly charge.\n",
        "\n",
        "\n",
        "\n",
        "\n",
        "have different no of call minutes,  'ultimate' and 'surf' have significant differences in the "
      ]
    }
  ]
}